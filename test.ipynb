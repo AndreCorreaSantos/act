{
 "cells": [
  {
   "cell_type": "code",
   "execution_count": 7,
   "id": "3120e773",
   "metadata": {},
   "outputs": [],
   "source": [
    "\n",
    "from florence import Florence2\n",
    "import time\n",
    "import matplotlib.pyplot as plt\n",
    "from PIL import Image\n",
    "\n",
    "florence = Florence2(gpu=True)"
   ]
  },
  {
   "cell_type": "code",
   "execution_count": null,
   "id": "77ca43c9",
   "metadata": {},
   "outputs": [
    {
     "name": "stdout",
     "output_type": "stream",
     "text": [
      "\n",
      "Testing text bbox detection...\n",
      "BBox result: [[120.69000244140625, 7.020000457763672, 418.2300109863281, 359.1000061035156]]\n",
      "bbox time 0.20398259162902832\n"
     ]
    },
    {
     "ename": "",
     "evalue": "",
     "output_type": "error",
     "traceback": [
      "\u001b[1;31mThe Kernel crashed while executing code in the current cell or a previous cell. \n",
      "\u001b[1;31mPlease review the code in the cell(s) to identify a possible cause of the failure. \n",
      "\u001b[1;31mClick <a href='https://aka.ms/vscodeJupyterKernelCrash'>here</a> for more info. \n",
      "\u001b[1;31mView Jupyter <a href='command:jupyter.viewOutput'>log</a> for further details."
     ]
    }
   ],
   "source": [
    "# Initialize Florence2\n",
    "\n",
    "# Load original image\n",
    "original_image = Image.open(\"test.jpg\")\n",
    "\n",
    "# Test text bbox detection\n",
    "print(\"\\nTesting text bbox detection...\")\n",
    "bbox_image = original_image.copy()\n",
    "start_time = time.time()\n",
    "bbox_result = florence.text_bbox(\"person\", bbox_image, draw=True)['<OPEN_VOCABULARY_DETECTION>']['bboxes']\n",
    "bbox_time = time.time() - start_time\n",
    "print(f\"BBox result: {bbox_result}\")\n",
    "print(f\"bbox time {bbox_time}\")"
   ]
  }
 ],
 "metadata": {
  "kernelspec": {
   "display_name": "Python 3",
   "language": "python",
   "name": "python3"
  },
  "language_info": {
   "codemirror_mode": {
    "name": "ipython",
    "version": 3
   },
   "file_extension": ".py",
   "mimetype": "text/x-python",
   "name": "python",
   "nbconvert_exporter": "python",
   "pygments_lexer": "ipython3",
   "version": "3.8.18"
  }
 },
 "nbformat": 4,
 "nbformat_minor": 5
}
